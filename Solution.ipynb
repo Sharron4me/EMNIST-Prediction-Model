{
 "cells": [
  {
   "cell_type": "code",
   "execution_count": 112,
   "metadata": {},
   "outputs": [],
   "source": [
    "import pandas as pd\n",
    "import numpy as np\n",
    "import matplotlib.pyplot as plt \n",
    "import tensorflow as tf \n",
    "import keras\n",
    "from tensorflow.keras.layers import Conv2D, Dense , Dropout, MaxPooling2D , Flatten\n",
    "from tensorflow.keras.models import Sequential\n",
    "from keras.utils import np_utils"
   ]
  },
  {
   "cell_type": "code",
   "execution_count": null,
   "metadata": {},
   "outputs": [],
   "source": [
    "df_train = pd.read_csv('train.csv')\n",
    "mapp = pd.read_csv(\"emnist-balanced-mapping.txt\", delimiter = ' ',index_col=0, header=None, squeeze=True)"
   ]
  },
  {
   "cell_type": "code",
   "execution_count": null,
   "metadata": {},
   "outputs": [],
   "source": [
    "df_train.head()"
   ]
  },
  {
   "cell_type": "code",
   "execution_count": null,
   "metadata": {},
   "outputs": [],
   "source": [
    "train_x = df_train.iloc[:,1:]\n",
    "train_y = df_train.iloc[:,0]"
   ]
  },
  {
   "cell_type": "code",
   "execution_count": null,
   "metadata": {},
   "outputs": [],
   "source": [
    "train_x = np.asarray(train_x)"
   ]
  },
  {
   "cell_type": "code",
   "execution_count": null,
   "metadata": {},
   "outputs": [],
   "source": [
    "print (\"train_x:\",train_x.shape)"
   ]
  },
  {
   "cell_type": "code",
   "execution_count": null,
   "metadata": {},
   "outputs": [],
   "source": [
    "\n",
    "def rotate(image):\n",
    "    image = image.reshape([28, 28])\n",
    "    image = np.fliplr(image)\n",
    "    image = np.rot90(image)\n",
    "    return image\n",
    "\n",
    "train_x = train_x.astype('float32')\n",
    "train_x = np.apply_along_axis(rotate, 1, train_x)\n",
    "train_x /= 255\n",
    "for i in range(100, 109):\n",
    "    plt.subplot(280+ (i+1))\n",
    "    plt.imshow(train_x[i], cmap=plt.get_cmap('gray'))\n",
    "    plt.title(chr(mapp[train_y[i]]))\n",
    "unique_items, num_classes = np.unique(x, return_counts=True)\n",
    "train_y = np_utils.to_categorical(train_y, num_classes)"
   ]
  },
  {
   "cell_type": "code",
   "execution_count": 10,
   "metadata": {},
   "outputs": [],
   "source": [
    "train_x = train_x.reshape(-1, 28, 28, 1)\n"
   ]
  },
  {
   "cell_type": "code",
   "execution_count": 15,
   "metadata": {},
   "outputs": [],
   "source": [
    "model = Sequential()\n",
    "model.add(Conv2D(64,activation='relu',kernel_size=(5,5),input_shape =(28,28,1)))\n",
    "model.add(MaxPooling2D(strides=3))\n",
    "model.add(Conv2D(32,activation='relu',kernel_size=(5,5)))\n",
    "model.add(MaxPooling2D(strides=3))\n",
    "model.add(Flatten())\n",
    "model.add(Dense(64,activation='relu'))\n",
    "model.add(Dropout(0.5))\n",
    "model.add(Dense(num_classes , activation='softmax'))"
   ]
  },
  {
   "cell_type": "code",
   "execution_count": 16,
   "metadata": {},
   "outputs": [
    {
     "name": "stdout",
     "output_type": "stream",
     "text": [
      "_________________________________________________________________\n",
      "Layer (type)                 Output Shape              Param #   \n",
      "=================================================================\n",
      "conv2d_2 (Conv2D)            (None, 24, 24, 64)        1664      \n",
      "_________________________________________________________________\n",
      "max_pooling2d_2 (MaxPooling2 (None, 8, 8, 64)          0         \n",
      "_________________________________________________________________\n",
      "conv2d_3 (Conv2D)            (None, 4, 4, 32)          51232     \n",
      "_________________________________________________________________\n",
      "max_pooling2d_3 (MaxPooling2 (None, 1, 1, 32)          0         \n",
      "_________________________________________________________________\n",
      "flatten_1 (Flatten)          (None, 32)                0         \n",
      "_________________________________________________________________\n",
      "dense_2 (Dense)              (None, 64)                2112      \n",
      "_________________________________________________________________\n",
      "dropout_1 (Dropout)          (None, 64)                0         \n",
      "_________________________________________________________________\n",
      "dense_3 (Dense)              (None, 47)                3055      \n",
      "=================================================================\n",
      "Total params: 58,063\n",
      "Trainable params: 58,063\n",
      "Non-trainable params: 0\n",
      "_________________________________________________________________\n"
     ]
    }
   ],
   "source": [
    "model.summary()"
   ]
  },
  {
   "cell_type": "code",
   "execution_count": 17,
   "metadata": {},
   "outputs": [],
   "source": [
    "model.compile(optimizer='adam',loss='categorical_crossentropy' , metrics=['accuracy'])"
   ]
  },
  {
   "cell_type": "code",
   "execution_count": 18,
   "metadata": {},
   "outputs": [
    {
     "name": "stdout",
     "output_type": "stream",
     "text": [
      "Train on 90239 samples, validate on 22560 samples\n",
      "Epoch 1/10\n",
      "90239/90239 [==============================] - 88s 972us/sample - loss: 1.8369 - acc: 0.4518 - val_loss: 0.9563 - val_acc: 0.6902\n",
      "Epoch 2/10\n",
      "90239/90239 [==============================] - 87s 968us/sample - loss: 1.1802 - acc: 0.6239 - val_loss: 0.8199 - val_acc: 0.7230\n",
      "Epoch 3/10\n",
      "90239/90239 [==============================] - 88s 974us/sample - loss: 1.0552 - acc: 0.6597 - val_loss: 0.7578 - val_acc: 0.7397\n",
      "Epoch 4/10\n",
      "90239/90239 [==============================] - 89s 991us/sample - loss: 0.9769 - acc: 0.6837 - val_loss: 0.7172 - val_acc: 0.7555\n",
      "Epoch 5/10\n",
      "90239/90239 [==============================] - 91s 1ms/sample - loss: 0.9315 - acc: 0.6980 - val_loss: 0.6789 - val_acc: 0.7647\n",
      "Epoch 6/10\n",
      "90239/90239 [==============================] - 92s 1ms/sample - loss: 0.8942 - acc: 0.7086 - val_loss: 0.6617 - val_acc: 0.7689\n",
      "Epoch 7/10\n",
      "90239/90239 [==============================] - 93s 1ms/sample - loss: 0.8621 - acc: 0.7187 - val_loss: 0.6640 - val_acc: 0.7700\n",
      "Epoch 8/10\n",
      "90239/90239 [==============================] - 92s 1ms/sample - loss: 0.8337 - acc: 0.7255 - val_loss: 0.6421 - val_acc: 0.7765\n",
      "Epoch 9/10\n",
      "90239/90239 [==============================] - 92s 1ms/sample - loss: 0.8134 - acc: 0.7320 - val_loss: 0.6271 - val_acc: 0.7848\n",
      "Epoch 10/10\n",
      "90239/90239 [==============================] - 93s 1ms/sample - loss: 0.7977 - acc: 0.7378 - val_loss: 0.6225 - val_acc: 0.7847\n"
     ]
    }
   ],
   "source": [
    "history= model.fit(train_x,train_y,validation_split=0.3,epochs=10)"
   ]
  },
  {
   "cell_type": "code",
   "execution_count": 34,
   "metadata": {},
   "outputs": [],
   "source": [
    "def plotgraph(epochs, acc, val_acc):\n",
    "    # Plot training & validation accuracy values\n",
    "    plt.plot(epochs, acc, 'b')\n",
    "    plt.plot(epochs, val_acc, 'r')\n",
    "    plt.title('Model accuracy')\n",
    "    plt.ylabel('Accuracy')\n",
    "    plt.xlabel('Epoch')\n",
    "    plt.legend(['Train', 'Val'], loc='upper left')\n",
    "    plt.show()\n",
    "acc = history.history['acc']\n",
    "val_acc = history.history['val_acc']\n",
    "loss = history.history['loss']\n",
    "val_loss = history.history['val_loss']\n",
    "epochs = range(1,len(acc)+1)"
   ]
  },
  {
   "cell_type": "code",
   "execution_count": 36,
   "metadata": {},
   "outputs": [
    {
     "data": {
      "image/png": "[encoded data removed]",
      "text/plain": [
       "<Figure size 432x288 with 1 Axes>"
      ]
     },
     "metadata": {
      "needs_background": "light"
     },
     "output_type": "display_data"
    }
   ],
   "source": [
    "plotgraph(epochs, acc, val_acc)"
   ]
  },
  {
   "cell_type": "code",
   "execution_count": 37,
   "metadata": {},
   "outputs": [
    {
     "data": {
      "image/png": "[encoded data removed]",
      "text/plain": [
       "<Figure size 432x288 with 1 Axes>"
      ]
     },
     "metadata": {
      "needs_background": "light"
     },
     "output_type": "display_data"
    }
   ],
   "source": [
    "plotgraph(epochs, loss, val_loss)"
   ]
  },
  {
   "cell_type": "code",
   "execution_count": 39,
   "metadata": {},
   "outputs": [],
   "source": [
    "model.save('Character Recignition.h5')"
   ]
  },
  {
   "cell_type": "code",
   "execution_count": 1,
   "metadata": {},
   "outputs": [],
   "source": [
    "import cv2 as cv"
   ]
  },
  {
   "cell_type": "code",
   "execution_count": 64,
   "metadata": {},
   "outputs": [
    {
     "name": "stdout",
     "output_type": "stream",
     "text": [
      "8\n",
      "8\n"
     ]
    }
   ],
   "source": [
    "img =cv.imread('20.png',0)\n",
    "img = np.array(img).reshape(-1,28,28,1)\n",
    "prediction = model.predict(img)\n",
    "print(list(prediction[0]).index(max(prediction[0])))\n",
    "print(chr(mapp[list(prediction[0]).index(max(prediction[0]))]))"
   ]
  },
  {
   "cell_type": "code",
   "execution_count": 65,
   "metadata": {},
   "outputs": [
    {
     "name": "stdout",
     "output_type": "stream",
     "text": [
      "8\n",
      "8\n"
     ]
    }
   ],
   "source": [
    "img =cv.imread('6.png',0)\n",
    "img = np.array(img).reshape(-1,28,28,1)\n",
    "prediction = model.predict(img)\n",
    "print(list(prediction[0]).index(max(prediction[0])))\n",
    "print(chr(mapp[list(prediction[0]).index(max(prediction[0]))])) "
   ]
  },
  {
   "cell_type": "code",
   "execution_count": 66,
   "metadata": {},
   "outputs": [
    {
     "name": "stdout",
     "output_type": "stream",
     "text": [
      "26\n",
      "Q\n"
     ]
    }
   ],
   "source": [
    "img =cv.imread('55.png',0)\n",
    "img = np.array(img).reshape(-1,28,28,1)\n",
    "prediction = model.predict(img)\n",
    "print(list(prediction[0]).index(max(prediction[0])))\n",
    "print(chr(mapp[list(prediction[0]).index(max(prediction[0]))])) "
   ]
  },
  {
   "cell_type": "code",
   "execution_count": 67,
   "metadata": {},
   "outputs": [
    {
     "name": "stdout",
     "output_type": "stream",
     "text": [
      "44\n",
      "q\n"
     ]
    }
   ],
   "source": [
    "img =cv.imread('49.png',0)\n",
    "img = np.array(img).reshape(-1,28,28,1)\n",
    "prediction = model.predict(img)\n",
    "print(list(prediction[0]).index(max(prediction[0])))\n",
    "print(chr(mapp[list(prediction[0]).index(max(prediction[0]))])) "
   ]
  },
  {
   "cell_type": "code",
   "execution_count": 68,
   "metadata": {},
   "outputs": [
    {
     "name": "stdout",
     "output_type": "stream",
     "text": [
      "11\n",
      "B\n"
     ]
    }
   ],
   "source": [
    "img =cv.imread('50.png',0)\n",
    "img = np.array(img).reshape(-1,28,28,1)\n",
    "prediction = model.predict(img)\n",
    "print(list(prediction[0]).index(max(prediction[0])))\n",
    "print(chr(mapp[list(prediction[0]).index(max(prediction[0]))])) "
   ]
  },
  {
   "cell_type": "code",
   "execution_count": 6,
   "metadata": {},
   "outputs": [
    {
     "name": "stderr",
     "output_type": "stream",
     "text": [
      "Using TensorFlow backend.\n"
     ]
    },
    {
     "name": "stdout",
     "output_type": "stream",
     "text": [
      "WARNING:tensorflow:From /home/sherrinford/anaconda3/envs/ML/lib/python3.7/site-packages/tensorflow/python/ops/resource_variable_ops.py:435: colocate_with (from tensorflow.python.framework.ops) is deprecated and will be removed in a future version.\n",
      "Instructions for updating:\n",
      "Colocations handled automatically by placer.\n",
      "WARNING:tensorflow:From /home/sherrinford/anaconda3/envs/ML/lib/python3.7/site-packages/tensorflow/python/keras/layers/core.py:143: calling dropout (from tensorflow.python.ops.nn_ops) with keep_prob is deprecated and will be removed in a future version.\n",
      "Instructions for updating:\n",
      "Please use `rate` instead of `keep_prob`. Rate should be set to `rate = 1 - keep_prob`.\n",
      "WARNING:tensorflow:From /home/sherrinford/anaconda3/envs/ML/lib/python3.7/site-packages/tensorflow/python/ops/math_ops.py:3066: to_int32 (from tensorflow.python.ops.math_ops) is deprecated and will be removed in a future version.\n",
      "Instructions for updating:\n",
      "Use tf.cast instead.\n"
     ]
    }
   ],
   "source": [
    "from  tensorflow import  keras\n",
    "from tensorflow.keras.models import load_model\n",
    "from tensorflow.keras.utils import CustomObjectScope\n",
    "from tensorflow.keras.initializers import glorot_uniform\n",
    "from keras.utils import np_utils\n",
    "model = load_model('Character Recignition.h5')"
   ]
  },
  {
   "cell_type": "code",
   "execution_count": 7,
   "metadata": {},
   "outputs": [],
   "source": [
    "import cv2 as cv\n",
    "import numpy as np\n",
    "import pandas as pd\n",
    "import matplotlib.pyplot as plt \n",
    "\n",
    "mapp = pd.read_csv(\"emnist-balanced-mapping.txt\", delimiter = ' ',index_col=0, header=None, squeeze=True)\n",
    "df_test = pd.read_csv('test.csv')"
   ]
  },
  {
   "cell_type": "code",
   "execution_count": 8,
   "metadata": {},
   "outputs": [],
   "source": [
    "test_x = df_test.iloc[:,1:]\n",
    "test_y = df_test.iloc[:,0]"
   ]
  },
  {
   "cell_type": "code",
   "execution_count": 9,
   "metadata": {},
   "outputs": [],
   "source": [
    "def rotate(image):\n",
    "    image = image.reshape([28, 28])\n",
    "    image = np.fliplr(image)\n",
    "    image = np.rot90(image)\n",
    "    return image\n",
    "\n",
    "test_x = test_x.astype('float32')\n",
    "test_x = np.apply_along_axis(rotate, 1, test_x )\n",
    "test_x/= 255\n",
    "test_x=test_x.reshape(-1,28,28,1)\n",
    "test_y = np_utils.to_categorical(test_y,47)"
   ]
  },
  {
   "cell_type": "code",
   "execution_count": 10,
   "metadata": {},
   "outputs": [],
   "source": []
  },
  {
   "cell_type": "code",
   "execution_count": 21,
   "metadata": {},
   "outputs": [
    {
     "data": {
      "image/png": "[encoded data removed]",
      "text/plain": [
       "<Figure size 432x288 with 1 Axes>"
      ]
     },
     "metadata": {
      "needs_background": "light"
     },
     "output_type": "display_data"
    }
   ],
   "source": [
    "prediction=model.predict(test_x[0].reshape(-1,28,28,1))\n",
    "y_predict=(prediction>0.5)\n",
    "plt.imshow(test_x[0].reshape(28,28))\n",
    "plt.title(chr(mapp[np.argmax(y_predict)]))\n",
    "plt.show()\n"
   ]
  },
  {
   "cell_type": "code",
   "execution_count": 22,
   "metadata": {
    "scrolled": true
   },
   "outputs": [
    {
     "data": {
      "image/png": "[encoded data removed]",
      "text/plain": [
       "<Figure size 432x288 with 1 Axes>"
      ]
     },
     "metadata": {
      "needs_background": "light"
     },
     "output_type": "display_data"
    }
   ],
   "source": [
    "prediction=model.predict(test_x[1].reshape(-1,28,28,1))\n",
    "y_predict=(prediction>0.5)\n",
    "plt.imshow(test_x[1].reshape(28,28))\n",
    "plt.title(chr(mapp[np.argmax(y_predict)]))\n",
    "plt.show()\n"
   ]
  },
  {
   "cell_type": "code",
   "execution_count": 23,
   "metadata": {
    "scrolled": true
   },
   "outputs": [
    {
     "data": {
      "image/png": "[encoded data removed]",
      "text/plain": [
       "<Figure size 432x288 with 1 Axes>"
      ]
     },
     "metadata": {
      "needs_background": "light"
     },
     "output_type": "display_data"
    }
   ],
   "source": [
    "prediction=model.predict(test_x[2].reshape(-1,28,28,1))\n",
    "y_predict=(prediction>0.5)\n",
    "plt.imshow(test_x[2].reshape(28,28))\n",
    "plt.title(chr(mapp[np.argmax(y_predict)]))\n",
    "plt.show()\n"
   ]
  },
  {
   "cell_type": "code",
   "execution_count": 24,
   "metadata": {},
   "outputs": [
    {
     "data": {
      "image/png": "[encoded data removed]",
      "text/plain": [
       "<Figure size 432x288 with 1 Axes>"
      ]
     },
     "metadata": {
      "needs_background": "light"
     },
     "output_type": "display_data"
    }
   ],
   "source": [
    "prediction=model.predict(test_x[3].reshape(-1,28,28,1))\n",
    "y_predict=(prediction>0.5)\n",
    "plt.imshow(test_x[].reshape(28,28))\n",
    "plt.title(chr(mapp[np.argmax(y_predict)]))\n",
    "plt.show()\n"
   ]
  },
  {
   "cell_type": "code",
   "execution_count": 66,
   "metadata": {},
   "outputs": [
    {
     "name": "stdout",
     "output_type": "stream",
     "text": [
      "18799/18799 [==============================] - 4s 238us/sample - loss: 0.6469 - acc: 0.7799\n"
     ]
    }
   ],
   "source": [
    "model.evaluate(test_x,test_y)\n",
    "y_pred = model.predict(test_x)\n",
    "y_pred = (y_pred > 0.5)"
   ]
  },
  {
   "cell_type": "code",
   "execution_count": 71,
   "metadata": {},
   "outputs": [],
   "source": [
    "import sklearn.metrics as metrics\n",
    "cm = metrics.confusion_matrix(test_y.argmax(axis=1), y_pred.argmax(axis=1))"
   ]
  },
  {
   "cell_type": "code",
   "execution_count": 72,
   "metadata": {},
   "outputs": [
    {
     "data": {
      "image/png": "[encoded data removed]",
      "text/plain": [
       "<Figure size 288x288 with 1 Axes>"
      ]
     },
     "metadata": {
      "needs_background": "light"
     },
     "output_type": "display_data"
    }
   ],
   "source": [
    "plt.matshow(cm)\n",
    "plt.show()"
   ]
  },
  {
   "cell_type": "code",
   "execution_count": null,
   "metadata": {},
   "outputs": [],
   "source": []
  },
  {
   "cell_type": "code",
   "execution_count": null,
   "metadata": {},
   "outputs": [],
   "source": []
  }
 ],
 "metadata": {
  "kernelspec": {
   "display_name": "Python 3",
   "language": "python",
   "name": "python3"
  },
  "language_info": {
   "codemirror_mode": {
    "name": "ipython",
    "version": 3
   },
   "file_extension": ".py",
   "mimetype": "text/x-python",
   "name": "python",
   "nbconvert_exporter": "python",
   "pygments_lexer": "ipython3",
   "version": "3.7.3"
  }
 },
 "nbformat": 4,
 "nbformat_minor": 2
}
